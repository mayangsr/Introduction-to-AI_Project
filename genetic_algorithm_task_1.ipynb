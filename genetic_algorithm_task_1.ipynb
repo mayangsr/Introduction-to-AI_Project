{
  "nbformat": 4,
  "nbformat_minor": 0,
  "metadata": {
    "colab": {
      "provenance": [],
      "collapsed_sections": []
    },
    "kernelspec": {
      "name": "python3",
      "display_name": "Python 3"
    },
    "language_info": {
      "name": "python"
    }
  },
  "cells": [
    {
      "cell_type": "code",
      "metadata": {
        "id": "pMoHfm5giTGr"
      },
      "source": [
        "import random\n",
        "import math"
      ],
      "execution_count": null,
      "outputs": []
    },
    {
      "cell_type": "code",
      "metadata": {
        "id": "jCUXUDCCiVLb"
      },
      "source": [
        "# PARAMETERS\n",
        "ukuranPopulasi = 50\n",
        "\n",
        "#batas x dan y\n",
        "min_x = -1\n",
        "max_x = 2\n",
        "min_y = -1\n",
        "max_y = 1\n",
        "\n",
        "panjangGen = 3 # panjang kromosom masing - masing x dan y\n",
        "panjangKromosom = panjangGen * 2 #panjang kromosom x dan y = 6\n",
        "\n",
        "pM = 0.05 #probability mutasi antara 0 - 1\n",
        "pC = 0.9 #probability crossover antara 0 - 1\n",
        "generations = 100 #untuk pemberhentian proses\n",
        "tour_size = 5"
      ],
      "execution_count": null,
      "outputs": []
    },
    {
      "cell_type": "code",
      "metadata": {
        "id": "_EfGz8AgiXh8"
      },
      "source": [
        "# generate populasi yang berisi kromosom-kromosom\n",
        "def generate_population(uk_populasi):\n",
        "    populasi = []\n",
        "    for _ in range(ukuranPopulasi):\n",
        "        kromosom = []\n",
        "        i = 0\n",
        "        for i in range(panjangKromosom):\n",
        "            kromosom.append(random.randint(0, 1))\n",
        "        populasi.append(kromosom)\n",
        "    return populasi "
      ],
      "execution_count": null,
      "outputs": []
    },
    {
      "cell_type": "code",
      "metadata": {
        "id": "uZL3Oax3ibgk"
      },
      "source": [
        "# dekode kromosom biner ke desimal\n",
        "def dekode(chromosome):\n",
        "    x = min_x + (max_x-min_x)/(math.pow(2,-1) + math.pow(2,-2) + math.pow(2,-3)) * (chromosome[0] * math.pow(2,-1) + chromosome[1] * math.pow(2,-2) + chromosome[2] * math.pow(2,-3))\n",
        "    y = min_y + (max_y-min_y)/(math.pow(2,-1) + math.pow(2,-2) +math.pow(2,-3)) * (chromosome[3] * math.pow(2,-1) + chromosome[4] * math.pow(2,-2) + chromosome[5] * math.pow(2,-3))\n",
        "    return x,y"
      ],
      "execution_count": null,
      "outputs": []
    },
    {
      "cell_type": "code",
      "metadata": {
        "id": "VfCq7CtEid1n"
      },
      "source": [
        "# apply function dari soal\n",
        "def fungsi_fit(x,y):\n",
        "    fungsi = ((math.cos(math.radians(pow(x,2))))*(math.sin(math.radians(pow(y,2)))) + (x+y))\n",
        "    return fungsi\n",
        "\n",
        "# menghitung nilai fitness dengan x dan y sudah di dekode\n",
        "def hitungFitness(chromosome):\n",
        "    x,y = dekode(chromosome)\n",
        "    return fungsi_fit(x,y)"
      ],
      "execution_count": null,
      "outputs": []
    },
    {
      "cell_type": "code",
      "metadata": {
        "id": "TDlA6qBZihXr"
      },
      "source": [
        "# menghitung nilai fitness dari masing-masing populasi\n",
        "def hitungFitnessAll(population, ukuranPopulasi):\n",
        "    total_fitness = 0\n",
        "    for i in range(len(population)):\n",
        "        total_fitness += hitungFitness(population[i])\n",
        "    return total_fitness"
      ],
      "execution_count": null,
      "outputs": []
    },
    {
      "cell_type": "code",
      "metadata": {
        "id": "jk0XXXn_ilJE"
      },
      "source": [
        "# Parent selection\n",
        "def tournament_tour(populasi, tour_size, uk_populasi):\n",
        "    best_chromosome = []\n",
        "    for i in range (1, tour_size):\n",
        "        chromosome = populasi[random.randint(0, uk_populasi-1)]\n",
        "        if (best_chromosome == [] or hitungFitness(chrom) > hitungFitness(best_chromosome)):\n",
        "            best_chromosome = chromosome\n",
        "        return best_chromosome"
      ],
      "execution_count": null,
      "outputs": []
    },
    {
      "cell_type": "code",
      "metadata": {
        "id": "jQBlw4RNinNB"
      },
      "source": [
        "# recombination\n",
        "\n",
        "def crossover(parent1, parent2, pC):\n",
        "    random_num = random.random()\n",
        "    child1 = parent1.copy()\n",
        "    child2 = parent2.copy()\n",
        "    if (random_num < pC):\n",
        "        child1[1] = parent2[1]\n",
        "        child2[1] = parent1[1]\n",
        "    return child1, child2"
      ],
      "execution_count": null,
      "outputs": []
    },
    {
      "cell_type": "code",
      "metadata": {
        "id": "amTdaKMTipjI"
      },
      "source": [
        "def mutasi (kromosom, pM):\n",
        "    chromosome = kromosom\n",
        "    random_num = random.random()\n",
        "    for i in range (len(chromosome)):\n",
        "        if (random_num<= pM):\n",
        "            idx_random = random.randint(1, panjangKromosom-1)\n",
        "            if chromosome[idx_random] == 0:\n",
        "                chromosome[idx_random] == 1\n",
        "            else:\n",
        "                chromosome[idx_random] == 0\n",
        "    return chromosome"
      ],
      "execution_count": null,
      "outputs": []
    },
    {
      "cell_type": "code",
      "metadata": {
        "id": "Mmb8lt62_3_R"
      },
      "source": [
        "# mencari nilai fitness max pada populasi\n",
        "def nmax_fitness_from(populasi):\n",
        "    nfit = []\n",
        "    for i in range(len(populasi)):\n",
        "        nfit.append(hitungFitness(populasi[i]))\n",
        "    max = 0\n",
        "    idx = 0\n",
        "    for i in range(len(populasi)):\n",
        "        if max < nfit[i]:\n",
        "            max = nfit[i]\n",
        "            idx = i\n",
        "    return populasi[idx]"
      ],
      "execution_count": null,
      "outputs": []
    },
    {
      "cell_type": "code",
      "metadata": {
        "id": "HpKzR07girea"
      },
      "source": [
        "# mencari kromosom terbaik berdasarkan nilai fitnessnya\n",
        "def elitism (population, n):\n",
        "    terurut = sorted(population, key = lambda chromosome: hitungFitness(chromosome))\n",
        "    return terurut[n:]"
      ],
      "execution_count": null,
      "outputs": []
    },
    {
      "cell_type": "code",
      "metadata": {
        "colab": {
          "base_uri": "https://localhost:8080/"
        },
        "id": "nNu2W3t9iwid",
        "outputId": "a236e0e4-a173-4498-8916-6d6a124f9362"
      },
      "source": [
        "# Main Function\n",
        "population = generate_population(ukuranPopulasi)\n",
        "\n",
        "for i in range(4):\n",
        "    populasi_baru = elitism(population, 2)\n",
        "    print('Generasi ke: ', i)\n",
        "    print(population)\n",
        "    while len(populasi_baru) < ukuranPopulasi:\n",
        "        parent1 = tournament_tour(population, tour_size, ukuranPopulasi)\n",
        "        parent2 = tournament_tour(population, tour_size, ukuranPopulasi)\n",
        "        child1, child2 = crossover(parent1, parent2, pC)\n",
        "\n",
        "        child1 = mutasi(parent1, pM)\n",
        "        child2 = mutasi(parent2, pM)\n",
        "        populasi_baru.append(child1)\n",
        "        populasi_baru.append(child2)\n",
        "        population = populasi_baru\n",
        "\n",
        "selected_pop = population\n",
        "kromosom_terbaik = nmax_fitness_from(selected_pop)\n",
        "x,y = dekode(kromosom_terbaik)\n",
        "\n",
        "print('\\nHasil Optimasi Fungsi')\n",
        "print('Kromosom terbaik: ', kromosom_terbaik)\n",
        "print('Pada generasi ke: ', i)\n",
        "print('Nilai x: ', x)\n",
        "print('Nilai y: ', y)\n",
        "fitness = fungsi_fit(x,y)\n",
        "print('Nilai fitness: ', fitness)"
      ],
      "execution_count": null,
      "outputs": [
        {
          "output_type": "stream",
          "text": [
            "Generasi ke:  0\n",
            "[[0, 1, 1, 1, 1, 1], [1, 0, 1, 1, 1, 0], [0, 1, 1, 0, 1, 0], [0, 0, 1, 0, 1, 1], [1, 1, 0, 1, 1, 1], [0, 0, 1, 0, 1, 0], [1, 0, 1, 1, 1, 1], [1, 1, 1, 0, 0, 0], [0, 1, 1, 1, 0, 1], [1, 1, 1, 1, 1, 1], [1, 1, 1, 0, 1, 1], [0, 1, 0, 1, 0, 0], [0, 1, 1, 1, 0, 1], [1, 1, 1, 0, 0, 1], [1, 0, 0, 1, 1, 0], [0, 1, 1, 1, 0, 0], [0, 1, 0, 0, 1, 1], [0, 1, 0, 1, 1, 0], [0, 1, 0, 1, 1, 1], [1, 1, 1, 1, 0, 0], [0, 1, 1, 1, 0, 1], [0, 0, 0, 1, 1, 0], [1, 1, 0, 0, 0, 0], [1, 0, 0, 1, 1, 1], [0, 1, 1, 1, 1, 1], [0, 0, 1, 0, 0, 0], [1, 0, 0, 0, 0, 0], [0, 0, 0, 0, 1, 0], [1, 0, 0, 1, 1, 1], [0, 0, 1, 1, 1, 1], [1, 1, 1, 0, 1, 0], [0, 1, 0, 0, 0, 1], [0, 0, 0, 0, 0, 0], [1, 1, 1, 0, 0, 1], [1, 0, 1, 1, 1, 1], [0, 0, 1, 1, 0, 1], [0, 0, 0, 1, 0, 1], [0, 0, 1, 1, 0, 0], [0, 1, 1, 0, 0, 0], [0, 1, 0, 0, 0, 0], [0, 0, 1, 1, 1, 0], [0, 1, 1, 0, 1, 0], [1, 1, 0, 1, 0, 0], [0, 0, 0, 0, 1, 0], [1, 1, 0, 1, 0, 1], [1, 1, 0, 0, 1, 0], [1, 1, 1, 1, 1, 1], [1, 0, 1, 1, 1, 0], [1, 0, 0, 1, 0, 1], [1, 0, 1, 0, 1, 0]]\n",
            "Generasi ke:  1\n",
            "[[0, 0, 0, 0, 1, 0], [0, 0, 0, 0, 1, 0], [0, 1, 0, 0, 0, 0], [0, 0, 1, 0, 1, 0], [0, 1, 0, 0, 0, 1], [0, 0, 1, 0, 1, 1], [0, 1, 1, 0, 0, 0], [0, 0, 0, 1, 0, 1], [0, 0, 1, 1, 0, 0], [0, 1, 0, 0, 1, 1], [0, 0, 0, 1, 1, 0], [1, 0, 0, 0, 0, 0], [0, 0, 1, 1, 0, 1], [0, 1, 1, 0, 1, 0], [0, 1, 1, 0, 1, 0], [0, 1, 0, 1, 0, 0], [0, 0, 1, 1, 1, 0], [0, 1, 1, 1, 0, 0], [0, 0, 1, 1, 1, 1], [0, 1, 0, 1, 1, 0], [1, 1, 0, 0, 0, 0], [1, 0, 1, 0, 1, 0], [0, 1, 1, 1, 0, 1], [0, 1, 1, 1, 0, 1], [0, 1, 1, 1, 0, 1], [0, 1, 0, 1, 1, 1], [1, 1, 1, 0, 0, 0], [1, 1, 0, 0, 1, 0], [1, 0, 0, 1, 0, 1], [1, 1, 1, 0, 0, 1], [1, 1, 1, 0, 0, 1], [0, 1, 1, 1, 1, 1], [0, 1, 1, 1, 1, 1], [1, 0, 0, 1, 1, 0], [1, 1, 1, 0, 1, 0], [1, 1, 0, 1, 0, 0], [1, 0, 0, 1, 1, 1], [1, 0, 0, 1, 1, 1], [1, 1, 1, 0, 1, 1], [1, 0, 1, 1, 1, 0], [1, 0, 1, 1, 1, 0], [1, 1, 0, 1, 0, 1], [1, 1, 1, 1, 0, 0], [1, 0, 1, 1, 1, 1], [1, 0, 1, 1, 1, 1], [1, 1, 0, 1, 1, 1], [1, 1, 1, 1, 1, 1], [1, 1, 1, 1, 1, 1], [0, 1, 0, 1, 1, 1], [0, 0, 1, 1, 0, 0]]\n",
            "Generasi ke:  2\n",
            "[[0, 1, 0, 0, 0, 0], [0, 0, 1, 0, 1, 0], [0, 1, 0, 0, 0, 1], [0, 0, 1, 0, 1, 1], [0, 1, 1, 0, 0, 0], [0, 0, 0, 1, 0, 1], [0, 0, 1, 1, 0, 0], [0, 0, 1, 1, 0, 0], [0, 1, 0, 0, 1, 1], [0, 0, 0, 1, 1, 0], [1, 0, 0, 0, 0, 0], [0, 0, 1, 1, 0, 1], [0, 1, 1, 0, 1, 0], [0, 1, 1, 0, 1, 0], [0, 1, 0, 1, 0, 0], [0, 0, 1, 1, 1, 0], [0, 1, 1, 1, 0, 0], [0, 0, 1, 1, 1, 1], [0, 1, 0, 1, 1, 0], [1, 1, 0, 0, 0, 0], [1, 0, 1, 0, 1, 0], [0, 1, 1, 1, 0, 1], [0, 1, 1, 1, 0, 1], [0, 1, 1, 1, 0, 1], [0, 1, 0, 1, 1, 1], [0, 1, 0, 1, 1, 1], [1, 1, 1, 0, 0, 0], [1, 1, 0, 0, 1, 0], [1, 0, 0, 1, 0, 1], [1, 1, 1, 0, 0, 1], [1, 1, 1, 0, 0, 1], [0, 1, 1, 1, 1, 1], [0, 1, 1, 1, 1, 1], [1, 0, 0, 1, 1, 0], [1, 1, 1, 0, 1, 0], [1, 1, 0, 1, 0, 0], [1, 0, 0, 1, 1, 1], [1, 0, 0, 1, 1, 1], [1, 1, 1, 0, 1, 1], [1, 0, 1, 1, 1, 0], [1, 0, 1, 1, 1, 0], [1, 1, 0, 1, 0, 1], [1, 1, 1, 1, 0, 0], [1, 0, 1, 1, 1, 1], [1, 0, 1, 1, 1, 1], [1, 1, 0, 1, 1, 1], [1, 1, 1, 1, 1, 1], [1, 1, 1, 1, 1, 1], [1, 0, 1, 1, 1, 1], [1, 1, 1, 0, 1, 1]]\n",
            "Generasi ke:  3\n",
            "[[0, 1, 0, 0, 0, 1], [0, 0, 1, 0, 1, 1], [0, 1, 1, 0, 0, 0], [0, 0, 0, 1, 0, 1], [0, 0, 1, 1, 0, 0], [0, 0, 1, 1, 0, 0], [0, 1, 0, 0, 1, 1], [0, 0, 0, 1, 1, 0], [1, 0, 0, 0, 0, 0], [0, 0, 1, 1, 0, 1], [0, 1, 1, 0, 1, 0], [0, 1, 1, 0, 1, 0], [0, 1, 0, 1, 0, 0], [0, 0, 1, 1, 1, 0], [0, 1, 1, 1, 0, 0], [0, 0, 1, 1, 1, 1], [0, 1, 0, 1, 1, 0], [1, 1, 0, 0, 0, 0], [1, 0, 1, 0, 1, 0], [0, 1, 1, 1, 0, 1], [0, 1, 1, 1, 0, 1], [0, 1, 1, 1, 0, 1], [0, 1, 0, 1, 1, 1], [0, 1, 0, 1, 1, 1], [1, 1, 1, 0, 0, 0], [1, 1, 0, 0, 1, 0], [1, 0, 0, 1, 0, 1], [1, 1, 1, 0, 0, 1], [1, 1, 1, 0, 0, 1], [0, 1, 1, 1, 1, 1], [0, 1, 1, 1, 1, 1], [1, 0, 0, 1, 1, 0], [1, 1, 1, 0, 1, 0], [1, 1, 0, 1, 0, 0], [1, 0, 0, 1, 1, 1], [1, 0, 0, 1, 1, 1], [1, 1, 1, 0, 1, 1], [1, 1, 1, 0, 1, 1], [1, 0, 1, 1, 1, 0], [1, 0, 1, 1, 1, 0], [1, 1, 0, 1, 0, 1], [1, 1, 1, 1, 0, 0], [1, 0, 1, 1, 1, 1], [1, 0, 1, 1, 1, 1], [1, 0, 1, 1, 1, 1], [1, 1, 0, 1, 1, 1], [1, 1, 1, 1, 1, 1], [1, 1, 1, 1, 1, 1], [1, 1, 1, 0, 0, 1], [1, 0, 1, 1, 1, 1]]\n",
            "\n",
            "Hasil Optimasi Fungsi\n",
            "Kromosom terbaik:  [1, 1, 1, 1, 1, 1]\n",
            "Pada generasi ke:  3\n",
            "Nilai x:  2.0\n",
            "Nilai y:  1.0\n",
            "Nilai fitness:  3.017409893252357\n"
          ],
          "name": "stdout"
        }
      ]
    }
  ]
}